{
 "cells": [
  {
   "cell_type": "code",
   "execution_count": 5,
   "id": "fc845c9c",
   "metadata": {},
   "outputs": [
    {
     "name": "stdout",
     "output_type": "stream",
     "text": [
      "( 1 , 2 )\n",
      "( 3 , 4 )\n",
      "( 4 , 6 )\n"
     ]
    }
   ],
   "source": [
    "class Point:\n",
    "    def __init__(self, x, y):\n",
    "        self.x = int(x)\n",
    "        self.y = int(y)\n",
    "\n",
    "    def readd(self,temp1,temp2):\n",
    "        self.x += int(temp1)\n",
    "        self.y += int(temp2)\n",
    "\n",
    "    def show(self):\n",
    "        print(\"(\",int(self.x),\",\",int(self.y),\")\")\n",
    "\n",
    "    def __add__(self, other):\n",
    "        print(\"(\", int(self.x)+other.x, \",\", int(self.y)+other.y, \")\")\n",
    "\n",
    "\n",
    "\n",
    "\n",
    "\n",
    "\n",
    "a = Point(1,2)\n",
    "a.show()\n",
    "\n",
    "b = Point(3,4)\n",
    "b.show()\n",
    "\n",
    "a = a+b\n",
    "\n",
    "\n"
   ]
  },
  {
   "cell_type": "code",
   "execution_count": null,
   "id": "02a11461",
   "metadata": {},
   "outputs": [],
   "source": [
    "import matplotlib.pyplot as plt\n",
    "import csv\n",
    "\n",
    "f = open('/Users/hadongjun/Desktop/seoul.csv')\n",
    "data = csv.reader(f)\n",
    "\n",
    "\n",
    "\n",
    "\n",
    "\n",
    "next(data)\n",
    "\n",
    "# 1-7 8-14 ...\n",
    "\n",
    "date = []\n",
    "gap = []\n",
    "sum = 0\n",
    "for row in data:\n",
    "    date = row[0].split(\".\")\n",
    "    gap1 = int(row[4]) - int(row[3])\n",
    "    sum = sum + gap1\n",
    "\n",
    "    if(int(date[2])%7 == 0):\n",
    "        gap.append(sum)\n",
    "        sum = 0\n",
    "\n",
    "\n"
   ]
  }
 ],
 "metadata": {
  "kernelspec": {
   "display_name": "Python 3",
   "language": "python",
   "name": "python3"
  },
  "language_info": {
   "codemirror_mode": {
    "name": "ipython",
    "version": 3
   },
   "file_extension": ".py",
   "mimetype": "text/x-python",
   "name": "python",
   "nbconvert_exporter": "python",
   "pygments_lexer": "ipython3",
   "version": "3.8.8"
  }
 },
 "nbformat": 4,
 "nbformat_minor": 5
}
