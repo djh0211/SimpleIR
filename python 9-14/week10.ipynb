{
 "cells": [
  {
   "cell_type": "code",
   "execution_count": 7,
   "id": "b0aa0252",
   "metadata": {},
   "outputs": [
    {
     "name": "stdout",
     "output_type": "stream",
     "text": [
      "Numbers?8 6 7 5 3 4 2\n",
      "[8, 7, 6, 5, 4, 3, 2]\n",
      "Max =  8\n"
     ]
    }
   ],
   "source": [
    "numbers = list(map(int,input(\"Numbers?\").split()))\n",
    "numbers.sort(reverse=True)\n",
    "print(numbers)\n",
    "print(\"Max = \",numbers[0])"
   ]
  },
  {
   "cell_type": "code",
   "execution_count": 40,
   "id": "d98046f9",
   "metadata": {},
   "outputs": [
    {
     "name": "stdout",
     "output_type": "stream",
     "text": [
      "암호입력하시오abc def\n",
      "암호화 :  efg bcd\n",
      "복호화 :  abc def\n"
     ]
    }
   ],
   "source": [
    "passwd = list(map(str,input(\"암호입력하시오\").split()))\n",
    "n = len(passwd)\n",
    "passwd.reverse()\n",
    "\n",
    "rev_pw = \" \".join(passwd)\n",
    "rev_pw = list(rev_pw)\n",
    "code = []\n",
    "for i in rev_pw:\n",
    "    if i!=\" \":\n",
    "        code.append(chr(ord(i)+1))\n",
    "    else:\n",
    "        code.append(i)\n",
    "code = \"\".join(code)\n",
    "print(\"암호화 : \",code)\n",
    "\n",
    "code = list(code)\n",
    "decode = []\n",
    "for i in code:\n",
    "    if i!=\" \":\n",
    "        decode.append(chr(ord(i)-1))\n",
    "    else:\n",
    "        decode.append(i)\n",
    "        \n",
    "decode = \"\".join(decode) #... ...\n",
    "\n",
    "decode = decode.split() #['...', '...']\n",
    "\n",
    "decode.reverse() #['abc', 'def']\n",
    "\n",
    "decode = \" \".join(decode) #abc def\n",
    "print(\"복호화 : \",decode)\n",
    "\n"
   ]
  },
  {
   "cell_type": "code",
   "execution_count": 55,
   "id": "449b19fc",
   "metadata": {},
   "outputs": [
    {
     "name": "stdout",
     "output_type": "stream",
     "text": [
      "1. 10개의 연락처 입력\n",
      "2. 이름으로 번호 찾기\n",
      "3. 번호로 이름 찾기\n",
      "4. 종료\n",
      "메뉴 선택1\n",
      "==== 1 번째 딕셔너리 요소 추가중====\n",
      "이름: a\n",
      "전화번호: 12\n",
      "==== 2 번째 딕셔너리 요소 추가중====\n",
      "이름: b\n",
      "전화번호: 13\n",
      "==== 3 번째 딕셔너리 요소 추가중====\n",
      "이름: c\n",
      "전화번호: 14\n",
      "==== 4 번째 딕셔너리 요소 추가중====\n",
      "이름: d\n",
      "전화번호: 15\n",
      "==== 5 번째 딕셔너리 요소 추가중====\n",
      "이름: e\n",
      "전화번호: 16\n",
      "==== 6 번째 딕셔너리 요소 추가중====\n",
      "이름: f\n",
      "전화번호: 17\n",
      "==== 7 번째 딕셔너리 요소 추가중====\n",
      "이름: g\n",
      "전화번호: 18\n",
      "==== 8 번째 딕셔너리 요소 추가중====\n",
      "이름: h\n",
      "전화번호: 31\n",
      "==== 9 번째 딕셔너리 요소 추가중====\n",
      "이름: i\n",
      "전화번호: 234\n",
      "==== 10 번째 딕셔너리 요소 추가중====\n",
      "이름: j\n",
      "전화번호: 4444\n",
      "1. 10개의 연락처 입력\n",
      "2. 이름으로 번호 찾기\n",
      "3. 번호로 이름 찾기\n",
      "4. 종료\n",
      "메뉴 선택2\n",
      "번호를 찾으려는 이름 입력j\n",
      "찾으시는 전화번호:  4444\n",
      "1. 10개의 연락처 입력\n",
      "2. 이름으로 번호 찾기\n",
      "3. 번호로 이름 찾기\n",
      "4. 종료\n",
      "메뉴 선택3\n",
      "이름을 찾으려는 전화번호 입력4444\n",
      "찾으시는 이름:  ['j']\n",
      "1. 10개의 연락처 입력\n",
      "2. 이름으로 번호 찾기\n",
      "3. 번호로 이름 찾기\n",
      "4. 종료\n",
      "메뉴 선택4\n"
     ]
    }
   ],
   "source": [
    "def print_menu():\n",
    "    print(\"1. 10개의 연락처 입력\")\n",
    "    print(\"2. 이름으로 번호 찾기\")\n",
    "    print(\"3. 번호로 이름 찾기\")\n",
    "    print(\"4. 종료\")\n",
    "    menu = input(\"메뉴 선택\")\n",
    "    return int(menu)\n",
    "\n",
    "def run():\n",
    "    while 1:\n",
    "        menu = print_menu()\n",
    "        if menu == 1:\n",
    "            dic = {}\n",
    "            i = 0\n",
    "            while i<10:\n",
    "                print(\"====\",i+1,\"번째 딕셔너리 요소 추가중====\")\n",
    "                name = str(input(\"이름: \"))\n",
    "                num = str(input(\"전화번호: \"))\n",
    "                dic[name] = num\n",
    "                i += 1\n",
    "                \n",
    "        if menu == 2:\n",
    "            t_name = str(input(\"번호를 찾으려는 이름 입력\"))\n",
    "            print(\"찾으시는 전화번호: \",dic.get(t_name))\n",
    "            \n",
    "        if menu == 3:\n",
    "            t_num = str(input(\"이름을 찾으려는 전화번호 입력\"))\n",
    "            print(\"찾으시는 이름: \", [key for key, value in dic.items() if value ==t_num]) \n",
    "                    \n",
    "        if menu == 4:\n",
    "            break\n",
    "            \n",
    "\n",
    "run()\n",
    "    \n",
    "    \n",
    "#print(dict_list)"
   ]
  },
  {
   "cell_type": "code",
   "execution_count": null,
   "id": "e55f43f1",
   "metadata": {},
   "outputs": [],
   "source": []
  }
 ],
 "metadata": {
  "kernelspec": {
   "display_name": "Python 3",
   "language": "python",
   "name": "python3"
  },
  "language_info": {
   "codemirror_mode": {
    "name": "ipython",
    "version": 3
   },
   "file_extension": ".py",
   "mimetype": "text/x-python",
   "name": "python",
   "nbconvert_exporter": "python",
   "pygments_lexer": "ipython3",
   "version": "3.9.4"
  }
 },
 "nbformat": 4,
 "nbformat_minor": 5
}
