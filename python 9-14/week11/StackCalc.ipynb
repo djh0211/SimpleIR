{
 "cells": [
  {
   "cell_type": "code",
   "execution_count": 3,
   "id": "6ff1fca5",
   "metadata": {},
   "outputs": [
    {
     "name": "stdout",
     "output_type": "stream",
     "text": [
      "수식을 입력하세요 : 1 + 2 - 3 * 4 + 5\n",
      "1+2-3*4+5 = -4\n"
     ]
    }
   ],
   "source": [
    "class Stack:\n",
    "    topidx = -1\n",
    "    \n",
    "    def __init__(self):\n",
    "        self.st = []\n",
    "    def push(self, a):\n",
    "        self.topidx += 1\n",
    "        self.st.append(a)\n",
    "    def pop(self):\n",
    "        if(len(self.st) == 0):\n",
    "            return None\n",
    "        else:\n",
    "            self.topidx -= 1\n",
    "            return self.st.pop()\n",
    "    def top(self):\n",
    "        if(len(self.st) == 0):\n",
    "            return None\n",
    "        else:\n",
    "            return self.st[self.topidx]\n",
    "    def isEmpty(self):\n",
    "        return (len(self.st) == 0)\n",
    "\n",
    "#계산 함수 'calc'\n",
    "def calc(a, b, op):\n",
    "    if(op == '+'): return a + b\n",
    "    elif(op == '-'): return b - a\n",
    "    elif(op == '*'): return a * b\n",
    "    elif(op == '/'): return b / a\n",
    "\n",
    "#main 함수\n",
    "str = input(\"수식을 입력하세요 : \")\n",
    "numstack = Stack()\n",
    "opstack = Stack()\n",
    "token = str.split()\n",
    "for ch in token:\n",
    "    if(ch == '*' or ch == '/'):\n",
    "        if(opstack.top() == '*' or opstack.top() == '/'):\n",
    "            tempop = opstack.pop()\n",
    "            tempnum = calc(numstack.pop(), numstack.pop(), tempop)\n",
    "            numstack.push(tempnum)\n",
    "            opstack.push(ch)\n",
    "        else:\n",
    "            opstack.push(ch)\n",
    "    elif(ch == '+' or ch == '-'):\n",
    "        if(opstack.isEmpty() or opstack.top() == '('):\n",
    "            opstack.push(ch)\n",
    "        else:\n",
    "            while(not(opstack.isEmpty() or opstack.top() == '(')):\n",
    "                tempop = opstack.pop()\n",
    "                tempnum = calc(numstack.pop(), numstack.pop(), tempop)\n",
    "                numstack.push(tempnum)\n",
    "            opstack.push(ch)\n",
    "    elif(ch == '('):\n",
    "        opstack.push(ch)\n",
    "    elif(ch == ')'):\n",
    "        while(1):\n",
    "            tempop = opstack.pop()\n",
    "            if(tempop == '('):\n",
    "                break\n",
    "            else:\n",
    "                tempnum = calc(numstack.pop(), numstack.pop(), tempop)\n",
    "                numstack.push(tempnum)\n",
    "    else:\n",
    "        numstack.push(int(ch))\n",
    "        \n",
    "if(not(opstack.isEmpty())):\n",
    "    tempop = opstack.pop()\n",
    "    tempnum = calc(numstack.pop(), numstack.pop(), tempop)\n",
    "    numstack.push(tempnum)\n",
    "    \n",
    "print(\"{0:s} = {1:d}\" .format(\"\".join(token), numstack.pop()))\n"
   ]
  },
  {
   "cell_type": "code",
   "execution_count": null,
   "id": "025620e7",
   "metadata": {},
   "outputs": [],
   "source": []
  }
 ],
 "metadata": {
  "kernelspec": {
   "display_name": "Python 3",
   "language": "python",
   "name": "python3"
  },
  "language_info": {
   "codemirror_mode": {
    "name": "ipython",
    "version": 3
   },
   "file_extension": ".py",
   "mimetype": "text/x-python",
   "name": "python",
   "nbconvert_exporter": "python",
   "pygments_lexer": "ipython3",
   "version": "3.9.4"
  }
 },
 "nbformat": 4,
 "nbformat_minor": 5
}
