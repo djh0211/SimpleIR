{
 "cells": [
  {
   "cell_type": "code",
   "execution_count": 36,
   "id": "ffbd4beb",
   "metadata": {},
   "outputs": [
    {
     "name": "stdout",
     "output_type": "stream",
     "text": [
      "x값을 입력하세요 : 2.2\n",
      "28.520000000000003\n"
     ]
    }
   ],
   "source": [
    "x = float(input(\"x값을 입력하세요 : \"))\n",
    "print(3*(x**2)+5*x+3)"
   ]
  },
  {
   "cell_type": "code",
   "execution_count": 37,
   "id": "ac81e9df",
   "metadata": {},
   "outputs": [
    {
     "name": "stdout",
     "output_type": "stream",
     "text": [
      "반지름r값을 입력하세요 : 3\n",
      "원의 넓이 =  28.26\n",
      "원의 둘레 =  18.84\n"
     ]
    }
   ],
   "source": [
    "pi = 3.14\n",
    "r = float(input(\"반지름r값을 입력하세요 : \"))\n",
    "print(\"원의 넓이 = \", pi*(r**2))\n",
    "print(\"원의 둘레 = \", 2*pi*r)\n"
   ]
  }
 ],
 "metadata": {
  "kernelspec": {
   "display_name": "Python 3",
   "language": "python",
   "name": "python3"
  },
  "language_info": {
   "codemirror_mode": {
    "name": "ipython",
    "version": 3
   },
   "file_extension": ".py",
   "mimetype": "text/x-python",
   "name": "python",
   "nbconvert_exporter": "python",
   "pygments_lexer": "ipython3",
   "version": "3.9.4"
  }
 },
 "nbformat": 4,
 "nbformat_minor": 5
}
